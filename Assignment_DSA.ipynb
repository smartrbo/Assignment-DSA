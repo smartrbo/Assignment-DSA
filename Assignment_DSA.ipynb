{
  "nbformat": 4,
  "nbformat_minor": 0,
  "metadata": {
    "colab": {
      "provenance": []
    },
    "kernelspec": {
      "name": "python3",
      "display_name": "Python 3"
    },
    "language_info": {
      "name": "python"
    }
  },
  "cells": [
    {
      "cell_type": "markdown",
      "source": [
        "Problem 1: Reverse a singly linked list.\n",
        "\n",
        "Input: 1 -> 2 -> 3 -> 4 -> 5\n",
        "Output: 5 -> 4 -> 3 -> 2 -> 1\n"
      ],
      "metadata": {
        "id": "sjTiU320oAlh"
      }
    },
    {
      "cell_type": "code",
      "source": [
        "class ListNode:\n",
        "    def __init__(self, val=0, next=None):\n",
        "        self.val = val\n",
        "        self.next = next\n",
        "\n",
        "def reverse_linked_list(head):\n",
        "    prev = None\n",
        "    current = head\n",
        "\n",
        "    while current:\n",
        "        next_node = current.next  # Store next node\n",
        "        current.next = prev       # Reverse link\n",
        "        prev = current            # Move prev forward\n",
        "        current = next_node       # Move current forward\n",
        "\n",
        "    return prev  # New head of reversed list\n",
        "\n",
        "# Helper function to print the linked list\n",
        "def print_list(head):\n",
        "    while head:\n",
        "        print(head.val, end=\" -> \" if head.next else \"\")\n",
        "        head = head.next\n",
        "    print()\n",
        "\n",
        "# Example usage\n",
        "head = ListNode(1, ListNode(2, ListNode(3, ListNode(4, ListNode(5)))))\n",
        "print(\"Original list:\")\n",
        "print_list(head)\n",
        "\n",
        "reversed_head = reverse_linked_list(head)\n",
        "print(\"Reversed list:\")\n",
        "print_list(reversed_head)\n"
      ],
      "metadata": {
        "colab": {
          "base_uri": "https://localhost:8080/",
          "height": 0
        },
        "id": "a_KJXA9JoGI9",
        "outputId": "e048b902-3748-4d84-c743-9ed3dd90975d"
      },
      "execution_count": 1,
      "outputs": [
        {
          "output_type": "stream",
          "name": "stdout",
          "text": [
            "Original list:\n",
            "1 -> 2 -> 3 -> 4 -> 5\n",
            "Reversed list:\n",
            "5 -> 4 -> 3 -> 2 -> 1\n"
          ]
        }
      ]
    },
    {
      "cell_type": "markdown",
      "source": [
        "Problem 2: Merge two sorted linked lists into one sorted linked list.\n",
        "\n",
        "Input: List 1: 1 -> 3 -> 5, List 2: 2 -> 4 -> 6\n",
        "Output: 1 -> 2 -> 3 -> 4 -> 5 -> 6"
      ],
      "metadata": {
        "id": "i09MhnphseNl"
      }
    },
    {
      "cell_type": "code",
      "source": [
        "class ListNode:\n",
        "    def __init__(self, val=0, next=None):\n",
        "        self.val = val\n",
        "        self.next = next\n",
        "\n",
        "def merge_sorted_lists(l1, l2):\n",
        "    dummy = ListNode()  # Dummy node to start the merged list\n",
        "    current = dummy  # Pointer to build the list\n",
        "\n",
        "    while l1 and l2:\n",
        "        if l1.val < l2.val:\n",
        "            current.next = l1\n",
        "            l1 = l1.next\n",
        "        else:\n",
        "            current.next = l2\n",
        "            l2 = l2.next\n",
        "        current = current.next  # Move the pointer forward\n",
        "\n",
        "    # Append remaining nodes (if any)\n",
        "    current.next = l1 if l1 else l2\n",
        "\n",
        "    return dummy.next  # Return merged list (skip dummy node)\n",
        "\n",
        "# Helper function to print linked list\n",
        "def print_list(head):\n",
        "    while head:\n",
        "        print(head.val, end=\" -> \" if head.next else \"\")\n",
        "        head = head.next\n",
        "    print()\n",
        "\n",
        "# Example usage\n",
        "l1 = ListNode(1, ListNode(3, ListNode(5)))\n",
        "l2 = ListNode(2, ListNode(4, ListNode(6)))\n",
        "\n",
        "print(\"List 1:\")\n",
        "print_list(l1)\n",
        "\n",
        "print(\"List 2:\")\n",
        "print_list(l2)\n",
        "\n",
        "merged_head = merge_sorted_lists(l1, l2)\n",
        "print(\"Merged List:\")\n",
        "print_list(merged_head)\n"
      ],
      "metadata": {
        "colab": {
          "base_uri": "https://localhost:8080/",
          "height": 0
        },
        "id": "0JTH9TDJskHk",
        "outputId": "5a2ddd31-ac39-43ae-f47f-c0659c1990e2"
      },
      "execution_count": 2,
      "outputs": [
        {
          "output_type": "stream",
          "name": "stdout",
          "text": [
            "List 1:\n",
            "1 -> 3 -> 5\n",
            "List 2:\n",
            "2 -> 4 -> 6\n",
            "Merged List:\n",
            "1 -> 2 -> 3 -> 4 -> 5 -> 6\n"
          ]
        }
      ]
    },
    {
      "cell_type": "markdown",
      "source": [
        "Problem 3: Remove the nth node from the end of a linked list.\n",
        "\n",
        "Input: 1 -> 2 -> 3 -> 4 -> 5, n = 2\n",
        "Output: 1 -> 2 -> 3 -> 5"
      ],
      "metadata": {
        "id": "HYK_BHfToUM1"
      }
    },
    {
      "cell_type": "code",
      "source": [
        "class ListNode:\n",
        "    def __init__(self, val=0, next=None):\n",
        "        self.val = val\n",
        "        self.next = next\n",
        "\n",
        "def remove_nth_from_end(head, n):\n",
        "    dummy = ListNode(0, head)  # Dummy node before head to handle edge cases\n",
        "    fast = slow = dummy\n",
        "\n",
        "    # Move fast n steps ahead\n",
        "    for _ in range(n):\n",
        "        fast = fast.next\n",
        "\n",
        "    # Move both pointers until fast reaches the end\n",
        "    while fast.next:\n",
        "        fast = fast.next\n",
        "        slow = slow.next\n",
        "\n",
        "    # Remove nth node\n",
        "    slow.next = slow.next.next\n",
        "\n",
        "    return dummy.next  # Return new head (skip dummy node)\n",
        "\n",
        "# Helper function to print linked list\n",
        "def print_list(head):\n",
        "    while head:\n",
        "        print(head.val, end=\" -> \" if head.next else \"\")\n",
        "        head = head.next\n",
        "    print()\n",
        "\n",
        "# Example usage\n",
        "head = ListNode(1, ListNode(2, ListNode(3, ListNode(4, ListNode(5)))))\n",
        "n = 2\n",
        "\n",
        "print(\"Original List:\")\n",
        "print_list(head)\n",
        "\n",
        "new_head = remove_nth_from_end(head, n)\n",
        "print(\"List after removing {}th node from end:\".format(n))\n",
        "print_list(new_head)\n"
      ],
      "metadata": {
        "colab": {
          "base_uri": "https://localhost:8080/",
          "height": 0
        },
        "id": "8JuBjeIPslEo",
        "outputId": "bf607e29-4cb2-4bb1-efb0-5efd0767d131"
      },
      "execution_count": 3,
      "outputs": [
        {
          "output_type": "stream",
          "name": "stdout",
          "text": [
            "Original List:\n",
            "1 -> 2 -> 3 -> 4 -> 5\n",
            "List after removing 2th node from end:\n",
            "1 -> 2 -> 3 -> 5\n"
          ]
        }
      ]
    },
    {
      "cell_type": "markdown",
      "source": [
        "Problem 4:\n",
        "Find the intersection point of two linked lists.\n",
        "\n",
        "Input: List 1: 1 -> 2 -> 3 -> 4, List 2: 9 -> 8 -> 3 -> 4\n",
        "Output: Node with value 3"
      ],
      "metadata": {
        "id": "-i2Iqzx0zWMN"
      }
    },
    {
      "cell_type": "code",
      "source": [
        "class ListNode:\n",
        "    def __init__(self, val=0, next=None):\n",
        "        self.val = val\n",
        "        self.next = next\n",
        "\n",
        "def get_intersection_node(headA, headB):\n",
        "    if not headA or not headB:\n",
        "        return None\n",
        "\n",
        "    pointerA, pointerB = headA, headB\n",
        "\n",
        "    while pointerA != pointerB:\n",
        "        # Move pointers, switching lists when reaching the end\n",
        "        pointerA = pointerA.next if pointerA else headB\n",
        "        pointerB = pointerB.next if pointerB else headA\n",
        "\n",
        "    return pointerA  # Either the intersection node or None if no intersection\n",
        "\n",
        "# Helper function to print the intersection node\n",
        "def print_intersection(node):\n",
        "    if node:\n",
        "        print(f\"Intersection at node with value: {node.val}\")\n",
        "    else:\n",
        "        print(\"No intersection found.\")\n",
        "\n",
        "# Example usage\n",
        "# Creating an intersection manually\n",
        "common = ListNode(3, ListNode(4))  # Common part\n",
        "\n",
        "list1 = ListNode(1, ListNode(2, common))  # 1 -> 2 -> 3 -> 4\n",
        "list2 = ListNode(9, ListNode(8, common))  # 9 -> 8 -> 3 -> 4\n",
        "\n",
        "print_intersection(get_intersection_node(list1, list2))\n"
      ],
      "metadata": {
        "colab": {
          "base_uri": "https://localhost:8080/",
          "height": 0
        },
        "id": "iFDD-hktzaLZ",
        "outputId": "d5aade00-5558-4b91-ad4a-b1eb94fc5016"
      },
      "execution_count": 4,
      "outputs": [
        {
          "output_type": "stream",
          "name": "stdout",
          "text": [
            "Intersection at node with value: 3\n"
          ]
        }
      ]
    },
    {
      "cell_type": "markdown",
      "source": [
        "Problem 5: Remove duplicates from a sorted linked list.\n",
        "\n",
        "Input: 1 -> 1 -> 2 -> 3 -> 3\n",
        "Output: 1 -> 2 -> 3\n"
      ],
      "metadata": {
        "id": "eRJuQs66zjyO"
      }
    },
    {
      "cell_type": "code",
      "source": [
        "class ListNode:\n",
        "    def __init__(self, val=0, next=None):\n",
        "        self.val = val\n",
        "        self.next = next\n",
        "\n",
        "def remove_duplicates(head):\n",
        "    current = head\n",
        "\n",
        "    while current and current.next:\n",
        "        if current.val == current.next.val:\n",
        "            current.next = current.next.next  # Skip the duplicate node\n",
        "        else:\n",
        "            current = current.next  # Move to the next node if no duplicate\n",
        "\n",
        "    return head  # Return the modified list\n",
        "\n",
        "# Helper function to print linked list\n",
        "def print_list(head):\n",
        "    while head:\n",
        "        print(head.val, end=\" -> \" if head.next else \"\")\n",
        "        head = head.next\n",
        "    print()\n",
        "class ListNode:\n",
        "    def __init__(self, val=0, next=None):\n",
        "        self.val = val\n",
        "        self.next = next\n",
        "\n",
        "def remove_duplicates(head):\n",
        "    current = head\n",
        "\n",
        "    while current and current.next:\n",
        "        if current.val == current.next.val:\n",
        "            current.next = current.next.next  # Skip the duplicate node\n",
        "        else:\n",
        "            current = current.next  # Move to the next node if no duplicate\n",
        "\n",
        "    return head  # Return the modified list\n",
        "\n",
        "# Helper function to print linked list\n",
        "def print_list(head):\n",
        "    while head:\n",
        "        print(head.val, end=\" -> \" if head.next else \"\")\n",
        "        head = head.next\n",
        "    print()\n",
        "\n",
        "# Example usage\n",
        "head = ListNode(1, ListNode(1, ListNode(2, ListNode(3, ListNode(3)))))\n",
        "print(\"Original List:\")\n",
        "print_list(head)\n",
        "\n",
        "new_head = remove_duplicates(head)\n",
        "print(\"List after removing duplicates:\")\n",
        "print_list(new_head)\n",
        "\n",
        "new_head = remove_duplicates(head)\n",
        "print(\"List after removing duplicates:\")\n",
        "print_list(new_head)\n"
      ],
      "metadata": {
        "colab": {
          "base_uri": "https://localhost:8080/",
          "height": 0
        },
        "id": "kyP_x_cBznl7",
        "outputId": "e75d5275-4819-4636-bb28-09231f1a4a2b"
      },
      "execution_count": 6,
      "outputs": [
        {
          "output_type": "stream",
          "name": "stdout",
          "text": [
            "Original List:\n",
            "1 -> 1 -> 2 -> 3 -> 3\n",
            "List after removing duplicates:\n",
            "1 -> 2 -> 3\n",
            "List after removing duplicates:\n",
            "1 -> 2 -> 3\n"
          ]
        }
      ]
    },
    {
      "cell_type": "markdown",
      "source": [
        "Problem 6: Add two numbers represented by linked lists (where each node contains a single digit).\n",
        "\n",
        "Input: List 1: 2 -> 4 -> 3, List 2: 5 -> 6 -> 4 (represents 342 + 465)\n",
        "Output: 7 -> 0 -> 8 (represents 807)"
      ],
      "metadata": {
        "id": "gwstcG9ozxpX"
      }
    },
    {
      "cell_type": "code",
      "source": [
        "class ListNode:\n",
        "    def __init__(self, val=0, next=None):\n",
        "        self.val = val\n",
        "        self.next = next\n",
        "\n",
        "def add_two_numbers(l1, l2):\n",
        "    dummy = ListNode()  # Dummy node to simplify list operations\n",
        "    current = dummy\n",
        "    carry = 0  # Carry for addition\n",
        "\n",
        "    while l1 or l2 or carry:\n",
        "        val1 = l1.val if l1 else 0\n",
        "        val2 = l2.val if l2 else 0\n",
        "        total = val1 + val2 + carry  # Sum of digits and carry\n",
        "\n",
        "        carry = total // 10  # Carry for next iteration\n",
        "        current.next = ListNode(total % 10)  # Store last digit in new node\n",
        "        current = current.next  # Move to next node\n",
        "\n",
        "        # Move forward in lists if not at the end\n",
        "        l1 = l1.next if l1 else None\n",
        "        l2 = l2.next if l2 else None\n",
        "\n",
        "    return dummy.next  # Return the new list, skipping the dummy node\n",
        "\n",
        "# Helper function to print linked list\n",
        "def print_list(head):\n",
        "    while head:\n",
        "        print(head.val, end=\" -> \" if head.next else \"\")\n",
        "        head = head.next\n",
        "    print()\n",
        "\n",
        "# Example usage\n",
        "l1 = ListNode(2, ListNode(4, ListNode(3)))  # Represents 342\n",
        "l2 = ListNode(5, ListNode(6, ListNode(4)))  # Represents 465\n",
        "\n",
        "print(\"List 1:\")\n",
        "print_list(l1)\n",
        "\n",
        "print(\"List 2:\")\n",
        "print_list(l2)\n",
        "\n",
        "result_head = add_two_numbers(l1, l2)\n",
        "print(\"Sum List:\")\n",
        "print_list(result_head)\n"
      ],
      "metadata": {
        "colab": {
          "base_uri": "https://localhost:8080/",
          "height": 0
        },
        "id": "WGfGDBknz1qp",
        "outputId": "8924a24e-2c6c-464b-d3db-30e6fbe37969"
      },
      "execution_count": 7,
      "outputs": [
        {
          "output_type": "stream",
          "name": "stdout",
          "text": [
            "List 1:\n",
            "2 -> 4 -> 3\n",
            "List 2:\n",
            "5 -> 6 -> 4\n",
            "Sum List:\n",
            "7 -> 0 -> 8\n"
          ]
        }
      ]
    },
    {
      "cell_type": "markdown",
      "source": [
        "Problem 7: Swap nodes in pairs in a linked list.\n",
        "\n",
        "Input: 1 -> 2 -> 3 -> 4\n",
        "Output: 2 -> 1 -> 4 -> 3\n"
      ],
      "metadata": {
        "id": "XjKLTf120Epe"
      }
    },
    {
      "cell_type": "code",
      "source": [
        "class ListNode:\n",
        "    def __init__(self, val=0, next=None):\n",
        "        self.val = val\n",
        "        self.next = next\n",
        "\n",
        "def swap_pairs(head):\n",
        "    dummy = ListNode(0, head)  # Dummy node to handle edge cases\n",
        "    prev = dummy\n",
        "\n",
        "    while prev.next and prev.next.next:\n",
        "        first = prev.next\n",
        "        second = first.next\n",
        "\n",
        "        # Swap nodes\n",
        "        first.next = second.next\n",
        "        second.next = first\n",
        "        prev.next = second\n",
        "\n",
        "        # Move prev forward by two nodes\n",
        "        prev = first\n",
        "\n",
        "    return dummy.next  # Return new head (skip dummy)\n",
        "\n",
        "# Helper function to print linked list\n",
        "def print_list(head):\n",
        "    while head:\n",
        "        print(head.val, end=\" -> \" if head.next else \"\")\n",
        "        head = head.next\n",
        "    print()\n",
        "\n",
        "# Example usage\n",
        "head = ListNode(1, ListNode(2, ListNode(3, ListNode(4))))\n",
        "print(\"Original List:\")\n",
        "print_list(head)\n",
        "\n",
        "swapped_head = swap_pairs(head)\n",
        "print(\"List after swapping pairs:\")\n",
        "print_list(swapped_head)\n"
      ],
      "metadata": {
        "colab": {
          "base_uri": "https://localhost:8080/",
          "height": 0
        },
        "id": "tlvlUtdW0Ho1",
        "outputId": "8bf28406-dfc3-463d-dfa6-e25142dca084"
      },
      "execution_count": 8,
      "outputs": [
        {
          "output_type": "stream",
          "name": "stdout",
          "text": [
            "Original List:\n",
            "1 -> 2 -> 3 -> 4\n",
            "List after swapping pairs:\n",
            "2 -> 1 -> 4 -> 3\n"
          ]
        }
      ]
    },
    {
      "cell_type": "markdown",
      "source": [
        "Problem 8: Reverse nodes in a linked list in groups of k.\n",
        "\n",
        "Input: 1 -> 2 -> 3 -> 4 -> 5, k = 3\n",
        "Output: 3 -> 2 -> 1 -> 4 -> 5"
      ],
      "metadata": {
        "id": "crn3OXK_0PoV"
      }
    },
    {
      "cell_type": "code",
      "source": [
        "class ListNode:\n",
        "    def __init__(self, val=0, next=None):\n",
        "        self.val = val\n",
        "        self.next = next\n",
        "\n",
        "def reverse_k_group(head, k):\n",
        "    dummy = ListNode(0, head)  # Dummy node before head\n",
        "    prev_group = dummy\n",
        "\n",
        "    while True:\n",
        "        kth = prev_group\n",
        "        count = 0\n",
        "\n",
        "        # Find the kth node from prev_group\n",
        "        for _ in range(k):\n",
        "            kth = kth.next\n",
        "            if not kth:\n",
        "                return dummy.next  # If fewer than k nodes remain, return result\n",
        "\n",
        "        group_next = kth.next  # Node after the k-group\n",
        "\n",
        "        # Reverse k nodes\n",
        "        prev, curr = kth.next, prev_group.next\n",
        "        for _ in range(k):\n",
        "            next_node = curr.next\n",
        "            curr.next = prev\n",
        "            prev = curr\n",
        "            curr = next_node\n",
        "\n",
        "        # Connect reversed group with the previous part\n",
        "        temp = prev_group.next  # First node of the group before reversal\n",
        "        prev_group.next = kth  # Link prev_group to the new head of this group\n",
        "        prev_group = temp  # Move prev_group forward for the next group\n",
        "\n",
        "    return dummy.next  # Return new head (skip dummy)\n",
        "\n",
        "# Helper function to print linked list\n",
        "def print_list(head):\n",
        "    while head:\n",
        "        print(head.val, end=\" -> \" if head.next else \"\")\n",
        "        head = head.next\n",
        "    print()\n",
        "\n",
        "# Example usage\n",
        "head = ListNode(1, ListNode(2, ListNode(3, ListNode(4, ListNode(5)))))\n",
        "k = 3\n",
        "\n",
        "print(\"Original List:\")\n",
        "print_list(head)\n",
        "\n",
        "reversed_head = reverse_k_group(head, k)\n",
        "print(\"List after reversing in groups of {}:\".format(k))\n",
        "print_list(reversed_head)\n"
      ],
      "metadata": {
        "colab": {
          "base_uri": "https://localhost:8080/",
          "height": 0
        },
        "id": "sGwLJdTJ0SJI",
        "outputId": "b8d287f1-ca79-4a60-c6cd-0540ae343ff7"
      },
      "execution_count": 9,
      "outputs": [
        {
          "output_type": "stream",
          "name": "stdout",
          "text": [
            "Original List:\n",
            "1 -> 2 -> 3 -> 4 -> 5\n",
            "List after reversing in groups of 3:\n",
            "3 -> 2 -> 1 -> 4 -> 5\n"
          ]
        }
      ]
    },
    {
      "cell_type": "markdown",
      "source": [
        "Problem 9: Determine if a linked list is a palindrome.\n",
        "\n",
        "Input: 1 -> 2 -> 2 -> 1\n",
        "Output: True\n"
      ],
      "metadata": {
        "id": "o9VBSyUL0Z_v"
      }
    },
    {
      "cell_type": "code",
      "source": [
        "class ListNode:\n",
        "    def __init__(self, val=0, next=None):\n",
        "        self.val = val\n",
        "        self.next = next\n",
        "\n",
        "def is_palindrome(head):\n",
        "    if not head or not head.next:\n",
        "        return True  # Single node or empty list is always a palindrome\n",
        "\n",
        "    # Step 1: Find the middle (slow/fast pointer)\n",
        "    slow, fast = head, head\n",
        "    while fast and fast.next:\n",
        "        slow = slow.next\n",
        "        fast = fast.next.next\n",
        "\n",
        "    # Step 2: Reverse the second half of the list\n",
        "    prev, curr = None, slow\n",
        "    while curr:\n",
        "        next_node = curr.next\n",
        "        curr.next = prev\n",
        "        prev = curr\n",
        "        curr = next_node\n",
        "\n",
        "    # Step 3: Compare both halves\n",
        "    first_half, second_half = head, prev\n",
        "    while second_half:  # Compare until second_half ends\n",
        "        if first_half.val != second_half.val:\n",
        "            return False\n",
        "        first_half = first_half.next\n",
        "        second_half = second_half.next\n",
        "\n",
        "    return True  # If all nodes matched, it's a palindrome\n",
        "\n",
        "# Helper function to create a linked list from a list\n",
        "def create_list(values):\n",
        "    head = ListNode(values[0])\n",
        "    current = head\n",
        "    for val in values[1:]:\n",
        "        current.next = ListNode(val)\n",
        "        current = current.next\n",
        "    return head\n",
        "\n",
        "# Example usage\n",
        "head = create_list([1, 2, 2, 1])\n",
        "print(\"Is the linked list a palindrome?\", is_palindrome(head))  # Output: True\n"
      ],
      "metadata": {
        "colab": {
          "base_uri": "https://localhost:8080/",
          "height": 0
        },
        "id": "0PfFk7vx0cec",
        "outputId": "e6968176-0260-4ead-efa5-815e77f67654"
      },
      "execution_count": 10,
      "outputs": [
        {
          "output_type": "stream",
          "name": "stdout",
          "text": [
            "Is the linked list a palindrome? True\n"
          ]
        }
      ]
    },
    {
      "cell_type": "markdown",
      "source": [
        "Problem 10: Rotate a linked list to the right by k places.\n",
        "\n",
        "Input: 1 -> 2 -> 3 -> 4 -> 5, k = 2\n",
        "Output: 4 -> 5 -> 1 -> 2 -> 3\n"
      ],
      "metadata": {
        "id": "uq5jfrI80nlf"
      }
    },
    {
      "cell_type": "code",
      "source": [
        "class ListNode:\n",
        "    def __init__(self, val=0, next=None):\n",
        "        self.val = val\n",
        "        self.next = next\n",
        "\n",
        "def rotate_right(head, k):\n",
        "    if not head or not head.next or k == 0:\n",
        "        return head  # No rotation needed\n",
        "\n",
        "    # Step 1: Find length of linked list\n",
        "    length = 1  # Start from 1 because we already have head\n",
        "    tail = head\n",
        "    while tail.next:\n",
        "        tail = tail.next\n",
        "        length += 1\n",
        "\n",
        "    # Step 2: Calculate effective rotation\n",
        "    k = k % length\n",
        "    if k == 0:\n",
        "        return head  # No change needed\n",
        "\n",
        "    # Step 3: Make the list circular\n",
        "    tail.next = head\n",
        "\n",
        "    # Step 4: Find the new tail (n - k steps from the head)\n",
        "    new_tail = head\n",
        "    for _ in range(length - k - 1):  # Move (length - k - 1) steps\n",
        "        new_tail = new_tail.next\n",
        "\n",
        "    # Step 5: Break the circular link and set new head\n",
        "    new_head = new_tail.next\n",
        "    new_tail.next = None  # Break cycle\n",
        "\n",
        "    return new_head  # Return new head\n",
        "\n",
        "# Helper function to create a linked list from a list\n",
        "def create_list(values):\n",
        "    head = ListNode(values[0])\n",
        "    current = head\n",
        "    for val in values[1:]:\n",
        "        current.next = ListNode(val)\n",
        "        current = current.next\n",
        "    return head\n",
        "\n",
        "# Helper function to print linked list\n",
        "def print_list(head):\n",
        "    while head:\n",
        "        print(head.val, end=\" -> \" if head.next else \"\")\n",
        "        head = head.next\n",
        "    print()\n",
        "\n",
        "# Example usage\n",
        "head = create_list([1, 2, 3, 4, 5])\n",
        "k = 2\n",
        "\n",
        "print(\"Original List:\")\n",
        "print_list(head)\n",
        "\n",
        "rotated_head = rotate_right(head, k)\n",
        "print(\"List after rotating by {}:\".format(k))\n",
        "print_list(rotated_head)\n"
      ],
      "metadata": {
        "colab": {
          "base_uri": "https://localhost:8080/",
          "height": 0
        },
        "id": "TH00VHRS0qJo",
        "outputId": "d3e1385f-f862-4dc7-eded-56a77a0b17cf"
      },
      "execution_count": 12,
      "outputs": [
        {
          "output_type": "stream",
          "name": "stdout",
          "text": [
            "Original List:\n",
            "1 -> 2 -> 3 -> 4 -> 5\n",
            "List after rotating by 2:\n",
            "4 -> 5 -> 1 -> 2 -> 3\n"
          ]
        }
      ]
    },
    {
      "cell_type": "markdown",
      "source": [
        "Problem 11: Flatten a multilevel doubly linked list.\n",
        "\n",
        "Input: 1 <-> 2 <-> 3 <-> 7 <-> 8 <-> 11 -> 12, 4 <-> 5 -> 9 -> 10, 6 -> 13\n",
        "Output: 1 <-> 2 <-> 3 <-> 4 <-> 5 <-> 6 <-> 7 <-> 8 <-> 9 <-> 10 <-> 11 <-> 12 <-> 13"
      ],
      "metadata": {
        "id": "yJFL7Cim01IG"
      }
    },
    {
      "cell_type": "code",
      "source": [
        "class Node:\n",
        "    def __init__(self, val=0, prev=None, next=None, child=None):\n",
        "        self.val = val\n",
        "        self.prev = prev\n",
        "        self.next = next\n",
        "        self.child = child\n",
        "\n",
        "def flatten(head):\n",
        "    if not head:\n",
        "        return None\n",
        "\n",
        "    stack = []\n",
        "    current = head\n",
        "\n",
        "    while current:\n",
        "        if current.child:\n",
        "            # If there's a next node, push it onto the stack\n",
        "            if current.next:\n",
        "                stack.append(current.next)\n",
        "\n",
        "            # Connect child as the next node\n",
        "            current.next = current.child\n",
        "            current.next.prev = current\n",
        "            current.child = None  # Remove child reference\n",
        "\n",
        "        # If no next node and stack is not empty, pop a node from stack\n",
        "        if not current.next and stack:\n",
        "            current.next = stack.pop()\n",
        "            current.next.prev = current\n",
        "\n",
        "        current = current.next  # Move forward\n",
        "\n",
        "    return head\n",
        "\n",
        "# Helper function to print the flattened list\n",
        "def print_list(head):\n",
        "    while head:\n",
        "        print(head.val, end=\" <-> \" if head.next else \"\")\n",
        "        head = head.next\n",
        "    print()\n",
        "\n",
        "# Example usage: Creating a multilevel linked list\n",
        "head = Node(1)\n",
        "node2 = Node(2, head)\n",
        "node3 = Node(3, node2)\n",
        "node4 = Node(4, node3)\n",
        "node5 = Node(5, node4)\n",
        "node6 = Node(6, node5)\n",
        "\n",
        "head.next = node2\n",
        "node2.next = node3\n",
        "node3.next = node4\n",
        "node4.next = node5\n",
        "node5.next = node6\n",
        "\n",
        "node7 = Node(7)\n",
        "node3.child = node7\n",
        "node8 = Node(8, node7)\n",
        "node7.next = node8\n",
        "node9 = Node(9)\n",
        "node10 = Node(10, node9)\n",
        "node9.next = node10\n",
        "node5.child = node9\n",
        "\n",
        "print(\"Flattened List:\")\n",
        "flattened_head = flatten(head)\n",
        "print_list(flattened_head)\n"
      ],
      "metadata": {
        "colab": {
          "base_uri": "https://localhost:8080/",
          "height": 0
        },
        "id": "bgoS5mhB03wu",
        "outputId": "aff46ba4-20db-45f7-ef54-ad8bc021918d"
      },
      "execution_count": 13,
      "outputs": [
        {
          "output_type": "stream",
          "name": "stdout",
          "text": [
            "Flattened List:\n",
            "1 <-> 2 <-> 3 <-> 7 <-> 8 <-> 4 <-> 5 <-> 9 <-> 10 <-> 6\n"
          ]
        }
      ]
    },
    {
      "cell_type": "markdown",
      "source": [
        "Problem 12: Rearrange a linked list such that all even positioned nodes are placed at the end.\n",
        "\n",
        "Input: 1 -> 2 -> 3 -> 4 -> 5\n",
        "Output: 1 -> 3 -> 5 -> 2 -> 4"
      ],
      "metadata": {
        "id": "Y4JPAlbF1I3M"
      }
    },
    {
      "cell_type": "code",
      "source": [
        "class ListNode:\n",
        "    def __init__(self, val=0, next=None):\n",
        "        self.val = val\n",
        "        self.next = next\n",
        "\n",
        "def rearrange_even_nodes(head):\n",
        "    if not head or not head.next:\n",
        "        return head  # No rearrangement needed for empty or single-node list\n",
        "\n",
        "    odd = head  # First node (odd-positioned)\n",
        "    even = head.next  # Second node (even-positioned)\n",
        "    even_head = even  # Keep track of even list start\n",
        "\n",
        "    while even and even.next:\n",
        "        odd.next = even.next  # Connect odd nodes\n",
        "        odd = odd.next\n",
        "        even.next = odd.next  # Connect even nodes\n",
        "        even = even.next\n",
        "\n",
        "    odd.next = even_head  # Append even list after odd list\n",
        "\n",
        "    return head\n",
        "\n",
        "# Helper function to print linked list\n",
        "def print_list(head):\n",
        "    while head:\n",
        "        print(head.val, end=\" -> \" if head.next else \"\")\n",
        "        head = head.next\n",
        "    print()\n",
        "\n",
        "# Example usage\n",
        "head = ListNode(1, ListNode(2, ListNode(3, ListNode(4, ListNode(5)))))\n",
        "\n",
        "print(\"Original List:\")\n",
        "print_list(head)\n",
        "\n",
        "rearranged_head = rearrange_even_nodes(head)\n",
        "print(\"Rearranged List:\")\n",
        "print_list(rearranged_head)\n"
      ],
      "metadata": {
        "id": "NjK-7Juj1LXv",
        "outputId": "1a1897b8-44aa-455c-a69c-2816729cf0b2",
        "colab": {
          "base_uri": "https://localhost:8080/",
          "height": 0
        }
      },
      "execution_count": 14,
      "outputs": [
        {
          "output_type": "stream",
          "name": "stdout",
          "text": [
            "Original List:\n",
            "1 -> 2 -> 3 -> 4 -> 5\n",
            "Rearranged List:\n",
            "1 -> 3 -> 5 -> 2 -> 4\n"
          ]
        }
      ]
    },
    {
      "cell_type": "markdown",
      "source": [
        "Problem 13: Given a non-negative number represented as a linked list, add one to it.\n",
        "\n",
        "Input: 1 -> 2 -> 3 (represents the number 123)\n",
        "Output: 1 -> 2 -> 4 (represents the number 124)"
      ],
      "metadata": {
        "id": "y-KrJPKP1V0L"
      }
    },
    {
      "cell_type": "code",
      "source": [
        "class ListNode:\n",
        "    def __init__(self, val=0, next=None):\n",
        "        self.val = val\n",
        "        self.next = next\n",
        "\n",
        "# Function to reverse a linked list\n",
        "def reverse_list(head):\n",
        "    prev = None\n",
        "    while head:\n",
        "        next_node = head.next\n",
        "        head.next = prev\n",
        "        prev = head\n",
        "        head = next_node\n",
        "    return prev\n",
        "\n",
        "# Function to add one to the number represented by linked list\n",
        "def add_one(head):\n",
        "    # Step 1: Reverse the list\n",
        "    head = reverse_list(head)\n",
        "\n",
        "    # Step 2: Add one\n",
        "    carry = 1\n",
        "    current = head\n",
        "\n",
        "    while current:\n",
        "        new_val = current.val + carry\n",
        "        current.val = new_val % 10\n",
        "        carry = new_val // 10  # Carry forward if needed\n",
        "\n",
        "        if carry == 0:\n",
        "            break  # No more carry, stop early\n",
        "\n",
        "        if not current.next and carry:  # If at last node and carry still exists\n",
        "            current.next = ListNode(1)  # Add new node with value 1\n",
        "            carry = 0  # Stop carrying forward\n",
        "\n",
        "        current = current.next  # Move forward\n",
        "\n",
        "    # Step 3: Reverse back to original order\n",
        "    return reverse_list(head)\n",
        "\n",
        "# Helper function to print linked list\n",
        "def print_list(head):\n",
        "    while head:\n",
        "        print(head.val, end=\" -> \" if head.next else \"\")\n",
        "        head = head.next\n",
        "    print()\n",
        "\n",
        "# Helper function to create a linked list from a list\n",
        "def create_list(values):\n",
        "    head = ListNode(values[0])\n",
        "    current = head\n",
        "    for val in values[1:]:\n",
        "        current.next = ListNode(val)\n",
        "        current = current.next\n",
        "    return head\n",
        "\n",
        "# Example usage\n",
        "head = create_list([1, 2, 3])\n",
        "\n",
        "print(\"Original List:\")\n",
        "print_list(head)\n",
        "\n",
        "updated_head = add_one(head)\n",
        "print(\"List after adding one:\")\n",
        "print_list(updated_head)\n"
      ],
      "metadata": {
        "id": "GxizrXbq1YHq",
        "outputId": "e8172d67-4e9d-430d-b387-befa43e6702e",
        "colab": {
          "base_uri": "https://localhost:8080/",
          "height": 0
        }
      },
      "execution_count": 15,
      "outputs": [
        {
          "output_type": "stream",
          "name": "stdout",
          "text": [
            "Original List:\n",
            "1 -> 2 -> 3\n",
            "List after adding one:\n",
            "1 -> 2 -> 4\n"
          ]
        }
      ]
    },
    {
      "cell_type": "markdown",
      "source": [
        "Problem 14: Given a sorted array and a target value, return the index if the target is found. If not, return the\n",
        "index where it would be inserted.\n",
        "\n",
        "Input: nums = [1, 3, 5, 6], target = 5\n",
        "Output: 2"
      ],
      "metadata": {
        "id": "wn8Fb05-1jv7"
      }
    },
    {
      "cell_type": "code",
      "source": [
        "def search_insert(nums, target):\n",
        "    left, right = 0, len(nums) - 1\n",
        "\n",
        "    while left <= right:\n",
        "        mid = (left + right) // 2\n",
        "        if nums[mid] == target:\n",
        "            return mid  # Target found\n",
        "        elif nums[mid] < target:\n",
        "            left = mid + 1  # Move right\n",
        "        else:\n",
        "            right = mid - 1  # Move left\n",
        "\n",
        "    return left  # Insertion position\n",
        "\n",
        "# Example usage\n",
        "nums = [1, 3, 5, 6]\n",
        "target = 5\n",
        "print(\"Output:\", search_insert(nums, target))  # Output: 2\n"
      ],
      "metadata": {
        "id": "jSpn_DMN1mxx",
        "outputId": "337f4a5c-cb41-4ed3-efaa-8b4d082b685d",
        "colab": {
          "base_uri": "https://localhost:8080/",
          "height": 0
        }
      },
      "execution_count": 16,
      "outputs": [
        {
          "output_type": "stream",
          "name": "stdout",
          "text": [
            "Output: 2\n"
          ]
        }
      ]
    },
    {
      "cell_type": "markdown",
      "source": [
        "Problem 15: Find the minimum element in a rotated sorted array.\n",
        "\n",
        "Input: [4, 5, 6, 7, 0, 1, 2]\n",
        "Output: 0"
      ],
      "metadata": {
        "id": "RgMPDJN-1ogS"
      }
    },
    {
      "cell_type": "code",
      "source": [
        "def find_min(nums):\n",
        "    left, right = 0, len(nums) - 1\n",
        "\n",
        "    while left < right:\n",
        "        mid = (left + right) // 2\n",
        "\n",
        "        # If mid element is greater than rightmost, min is in the right half\n",
        "        if nums[mid] > nums[right]:\n",
        "            left = mid + 1\n",
        "        else:\n",
        "            right = mid  # Min is in the left half or is mid itself\n",
        "\n",
        "    return nums[left]  # Minimum element\n",
        "\n",
        "# Example usage\n",
        "nums = [4, 5, 6, 7, 0, 1, 2]\n",
        "print(\"Output:\", find_min(nums))  # Output: 0\n"
      ],
      "metadata": {
        "id": "l72P_S8O1sT5",
        "outputId": "7debb31f-82d2-43e6-83fa-97ff8f1f2c79",
        "colab": {
          "base_uri": "https://localhost:8080/",
          "height": 0
        }
      },
      "execution_count": 17,
      "outputs": [
        {
          "output_type": "stream",
          "name": "stdout",
          "text": [
            "Output: 0\n"
          ]
        }
      ]
    },
    {
      "cell_type": "markdown",
      "source": [
        "Problem 16: Search for a target value in a rotated sorted array.\n",
        "\n",
        "Input: nums = [4, 5, 6, 7, 0, 1, 2], target = 0\n",
        "Output: 4"
      ],
      "metadata": {
        "id": "SSJE3y6y1tAH"
      }
    },
    {
      "cell_type": "code",
      "source": [
        "def search(nums, target):\n",
        "    left, right = 0, len(nums) - 1\n",
        "\n",
        "    while left <= right:\n",
        "        mid = (left + right) // 2\n",
        "\n",
        "        if nums[mid] == target:\n",
        "            return mid  # Target found\n",
        "\n",
        "        # Determine which half is sorted\n",
        "        if nums[left] <= nums[mid]:  # Left half is sorted\n",
        "            if nums[left] <= target < nums[mid]:  # Target in left half\n",
        "                right = mid - 1\n",
        "            else:  # Target in right half\n",
        "                left = mid + 1\n",
        "        else:  # Right half is sorted\n",
        "            if nums[mid] < target <= nums[right]:  # Target in right half\n",
        "                left = mid + 1\n",
        "            else:  # Target in left half\n",
        "                right = mid - 1\n",
        "\n",
        "    return -1  # Target not found\n",
        "\n",
        "# Example usage\n",
        "nums = [4, 5, 6, 7, 0, 1, 2]\n",
        "target = 0\n",
        "print(\"Output:\", search(nums, target))  # Output: 4\n"
      ],
      "metadata": {
        "id": "Rh1gzxU11xZ9",
        "outputId": "ad03bd0d-e30e-4255-ce7a-9178d951481c",
        "colab": {
          "base_uri": "https://localhost:8080/",
          "height": 0
        }
      },
      "execution_count": 18,
      "outputs": [
        {
          "output_type": "stream",
          "name": "stdout",
          "text": [
            "Output: 4\n"
          ]
        }
      ]
    },
    {
      "cell_type": "markdown",
      "source": [
        "Problem 17: Find the peak element in an array. A peak element is greater than its neighbors.\n",
        "\n",
        "Input: nums = [1, 2, 3, 1]\n",
        "Output: 2 (index of peak element)\n"
      ],
      "metadata": {
        "id": "-eWPYocD1xwL"
      }
    },
    {
      "cell_type": "code",
      "source": [
        "def find_peak_element(nums):\n",
        "    left, right = 0, len(nums) - 1\n",
        "\n",
        "    while left < right:\n",
        "        mid = (left + right) // 2\n",
        "\n",
        "        if nums[mid] > nums[mid + 1]:  # Peak is in the left half\n",
        "            right = mid\n",
        "        else:  # Peak is in the right half\n",
        "            left = mid + 1\n",
        "\n",
        "    return left  # or return right (both point to peak)\n",
        "\n",
        "# Example usage\n",
        "nums = [1, 2, 3, 1]\n",
        "print(\"Output:\", find_peak_element(nums))  # Output: 2\n"
      ],
      "metadata": {
        "id": "AO9g0P2u11qN",
        "outputId": "2b453015-289b-4850-962d-142fd20cbc7e",
        "colab": {
          "base_uri": "https://localhost:8080/",
          "height": 0
        }
      },
      "execution_count": 19,
      "outputs": [
        {
          "output_type": "stream",
          "name": "stdout",
          "text": [
            "Output: 2\n"
          ]
        }
      ]
    },
    {
      "cell_type": "markdown",
      "source": [
        "Problem 18: Given a m x n matrix where each row and column is sorted in ascending order, count the number\n",
        "of negative numbers.\n",
        "\n",
        "Input: grid = [[4, 3, 2, -1], [3, 2, 1, -1], [1, 1, -1, -2], [-1, -1, -2, -3]]\n",
        "Output: 8"
      ],
      "metadata": {
        "id": "5scV2Hkb13K_"
      }
    },
    {
      "cell_type": "code",
      "source": [
        "def count_negatives(grid):\n",
        "    m, n = len(grid), len(grid[0])\n",
        "    row, col = m - 1, 0  # Start at bottom-left\n",
        "    count = 0\n",
        "\n",
        "    while row >= 0 and col < n:\n",
        "        if grid[row][col] < 0:\n",
        "            count += (n - col)  # All elements in this row to the right are negative\n",
        "            row -= 1  # Move up\n",
        "        else:\n",
        "            col += 1  # Move right\n",
        "\n",
        "    return count\n",
        "\n",
        "# Example usage\n",
        "grid = [\n",
        "    [4, 3, 2, -1],\n",
        "    [3, 2, 1, -1],\n",
        "    [1, 1, -1, -2],\n",
        "    [-1, -1, -2, -3]\n",
        "]\n",
        "print(\"Output:\", count_negatives(grid))  # Output: 8\n"
      ],
      "metadata": {
        "id": "t76m1SUV17rQ",
        "outputId": "a59ed4b3-c508-4cbf-9074-bede23d0394f",
        "colab": {
          "base_uri": "https://localhost:8080/",
          "height": 0
        }
      },
      "execution_count": 20,
      "outputs": [
        {
          "output_type": "stream",
          "name": "stdout",
          "text": [
            "Output: 8\n"
          ]
        }
      ]
    },
    {
      "cell_type": "markdown",
      "source": [
        "Problem 19: Given a 2D matrix sorted in ascending order in each row, and the first integer of each row is\n",
        "greater than the last integer of the previous row, determine if a target value is present in the matrix.\n",
        "\n",
        "Input: matrix = [[1, 3, 5, 7], [10, 11, 16, 20], [23, 30, 34, 60]], target = 3\n",
        "Output: True"
      ],
      "metadata": {
        "id": "3S8zGyic183j"
      }
    },
    {
      "cell_type": "code",
      "source": [
        "def search_matrix(matrix, target):\n",
        "    if not matrix or not matrix[0]:  # Edge case: empty matrix\n",
        "        return False\n",
        "\n",
        "    m, n = len(matrix), len(matrix[0])\n",
        "    left, right = 0, m * n - 1  # Treat as 1D array\n",
        "\n",
        "    while left <= right:\n",
        "        mid = (left + right) // 2\n",
        "        row, col = mid // n, mid % n  # Convert mid index to 2D index\n",
        "\n",
        "        if matrix[row][col] == target:\n",
        "            return True\n",
        "        elif matrix[row][col] < target:\n",
        "            left = mid + 1  # Search right half\n",
        "        else:\n",
        "            right = mid - 1  # Search left half\n",
        "\n",
        "    return False  # Target not found\n",
        "\n",
        "# Example usage\n",
        "matrix = [\n",
        "    [1, 3, 5, 7],\n",
        "    [10, 11, 16, 20],\n",
        "    [23, 30, 34, 60]\n",
        "]\n",
        "target = 3\n",
        "print(\"Output:\", search_matrix(matrix, target))  # Output: True\n"
      ],
      "metadata": {
        "id": "FtQySNps2A9e",
        "outputId": "f472074b-cf8d-427a-8381-d46fd951dc1e",
        "colab": {
          "base_uri": "https://localhost:8080/",
          "height": 0
        }
      },
      "execution_count": 21,
      "outputs": [
        {
          "output_type": "stream",
          "name": "stdout",
          "text": [
            "Output: True\n"
          ]
        }
      ]
    },
    {
      "cell_type": "markdown",
      "source": [
        "Problem 20: Find Median in Two Sorted Arrays\n",
        "Problem: Given two sorted arrays, find the median of the combined sorted array.\n",
        "\n",
        "Input: nums1 = [1, 3], nums2 = [2]\n",
        "Output: 2.0"
      ],
      "metadata": {
        "id": "yXhoCRar2BXf"
      }
    },
    {
      "cell_type": "code",
      "source": [
        "def findMedianSortedArrays(nums1, nums2):\n",
        "    if len(nums1) > len(nums2):  # Ensure nums1 is the smaller array\n",
        "        nums1, nums2 = nums2, nums1\n",
        "\n",
        "    x, y = len(nums1), len(nums2)\n",
        "    low, high = 0, x\n",
        "\n",
        "    while low <= high:\n",
        "        midX = (low + high) // 2\n",
        "        midY = (x + y + 1) // 2 - midX\n",
        "\n",
        "        maxLeftX = float('-inf') if midX == 0 else nums1[midX - 1]\n",
        "        minRightX = float('inf') if midX == x else nums1[midX]\n",
        "\n",
        "        maxLeftY = float('-inf') if midY == 0 else nums2[midY - 1]\n",
        "        minRightY = float('inf') if midY == y else nums2[midY]\n",
        "\n",
        "        if maxLeftX <= minRightY and maxLeftY <= minRightX:\n",
        "            # Odd total length\n",
        "            if (x + y) % 2 == 1:\n",
        "                return max(maxLeftX, maxLeftY)\n",
        "            # Even total length\n",
        "            return (max(maxLeftX, maxLeftY) + min(minRightX, minRightY)) / 2\n",
        "        elif maxLeftX > minRightY:\n",
        "            high = midX - 1  # Move left\n",
        "        else:\n",
        "            low = midX + 1  # Move right\n",
        "\n",
        "# Example usage\n",
        "nums1 = [1, 3]\n",
        "nums2 = [2]\n",
        "print(\"Output:\", findMedianSortedArrays(nums1, nums2))  # Output: 2.0\n",
        "\n"
      ],
      "metadata": {
        "id": "JnEtLceQ2ESh",
        "outputId": "361d1565-d07f-412a-9fec-4f06a200d926",
        "colab": {
          "base_uri": "https://localhost:8080/",
          "height": 0
        }
      },
      "execution_count": 22,
      "outputs": [
        {
          "output_type": "stream",
          "name": "stdout",
          "text": [
            "Output: 2\n"
          ]
        }
      ]
    },
    {
      "cell_type": "markdown",
      "source": [
        "Problem 21: Given a sorted character array and a target letter, find the smallest letter in the array that is\n",
        "greater than the target.\n",
        "\n",
        "Input: letters = ['c', 'f', 'j'], target = a\n",
        "Output: 'c'"
      ],
      "metadata": {
        "id": "5AvBqdHM3DtH"
      }
    },
    {
      "cell_type": "code",
      "source": [
        "def nextGreatestLetter(letters, target):\n",
        "    low, high = 0, len(letters) - 1\n",
        "\n",
        "    while low <= high:\n",
        "        mid = (low + high) // 2\n",
        "        if letters[mid] > target:\n",
        "            high = mid - 1  # Move left\n",
        "        else:\n",
        "            low = mid + 1  # Move right\n",
        "\n",
        "    return letters[low % len(letters)]  # Wrap around\n",
        "\n",
        "# Example usage\n",
        "letters = ['c', 'f', 'j']\n",
        "target = 'a'\n",
        "print(\"Output:\", nextGreatestLetter(letters, target))  # Output: 'c'\n"
      ],
      "metadata": {
        "id": "x8D7igYZ3EN5",
        "outputId": "468710d4-ea37-43b8-f079-2a26cc572ba1",
        "colab": {
          "base_uri": "https://localhost:8080/",
          "height": 0
        }
      },
      "execution_count": 23,
      "outputs": [
        {
          "output_type": "stream",
          "name": "stdout",
          "text": [
            "Output: c\n"
          ]
        }
      ]
    },
    {
      "cell_type": "markdown",
      "source": [
        "Problem 22: Given an array with n objects colored red, white, or blue, sort them in-place so that objects of\n",
        "the same color are adjacent, with the colors in the order red, white, and blue.\n",
        "\n",
        "Input: nums = [2, 0, 2, 1, 1, 0]\n",
        "Output: [0, 0, 1, 1, 2, 2]"
      ],
      "metadata": {
        "id": "cz0RnKhH3Jkn"
      }
    },
    {
      "cell_type": "code",
      "source": [
        "def sortColors(nums):\n",
        "    low, mid, high = 0, 0, len(nums) - 1\n",
        "\n",
        "    while mid <= high:\n",
        "        if nums[mid] == 0:  # Swap 0s to front\n",
        "            nums[low], nums[mid] = nums[mid], nums[low]\n",
        "            low += 1\n",
        "            mid += 1\n",
        "        elif nums[mid] == 1:  # Leave 1s in place\n",
        "            mid += 1\n",
        "        else:  # Swap 2s to end\n",
        "            nums[mid], nums[high] = nums[high], nums[mid]\n",
        "            high -= 1  # Move high only (mid stays to re-evaluate swapped value)\n",
        "\n",
        "# Example usage\n",
        "nums = [2, 0, 2, 1, 1, 0]\n",
        "sortColors(nums)\n",
        "print(\"Output:\", nums)  # Output: [0, 0, 1, 1, 2, 2]\n"
      ],
      "metadata": {
        "id": "UF2cqrn93Nie",
        "outputId": "cf0ebc3d-e986-41a0-c31b-eaec6a5be4d3",
        "colab": {
          "base_uri": "https://localhost:8080/",
          "height": 0
        }
      },
      "execution_count": 24,
      "outputs": [
        {
          "output_type": "stream",
          "name": "stdout",
          "text": [
            "Output: [0, 0, 1, 1, 2, 2]\n"
          ]
        }
      ]
    },
    {
      "cell_type": "markdown",
      "source": [
        "Problem 23: Find the kth largest element in an unsorted array.\n",
        "\n",
        "Input: nums = [3, 2, 1, 5, 6, 4], k = 2\n",
        "Output: 5"
      ],
      "metadata": {
        "id": "oAOzG1yK3PtI"
      }
    },
    {
      "cell_type": "code",
      "source": [
        "import random\n",
        "\n",
        "def quickselect(nums, left, right, k_smallest):\n",
        "    if left == right:\n",
        "        return nums[left]\n",
        "\n",
        "    pivot_index = random.randint(left, right)\n",
        "    pivot_index = partition(nums, left, right, pivot_index)\n",
        "\n",
        "    if pivot_index == k_smallest:\n",
        "        return nums[pivot_index]\n",
        "    elif pivot_index > k_smallest:\n",
        "        return quickselect(nums, left, pivot_index - 1, k_smallest)\n",
        "    else:\n",
        "        return quickselect(nums, pivot_index + 1, right, k_smallest)\n",
        "\n",
        "def partition(nums, left, right, pivot_index):\n",
        "    pivot = nums[pivot_index]\n",
        "    nums[pivot_index], nums[right] = nums[right], nums[pivot_index]  # Move pivot to end\n",
        "    store_index = left\n",
        "\n",
        "    for i in range(left, right):\n",
        "        if nums[i] > pivot:  # Descending order\n",
        "            nums[i], nums[store_index] = nums[store_index], nums[i]\n",
        "            store_index += 1\n",
        "\n",
        "    nums[store_index], nums[right] = nums[right], nums[store_index]  # Move pivot to final place\n",
        "    return store_index\n",
        "\n",
        "def findKthLargest(nums, k):\n",
        "    return quickselect(nums, 0, len(nums) - 1, len(nums) - k)\n",
        "\n",
        "# Example usage\n",
        "nums = [3, 2, 1, 5, 6, 4]\n",
        "k = 2\n",
        "print(\"Output:\", findKthLargest(nums, k))  # Output: 5\n"
      ],
      "metadata": {
        "id": "IBeKbIY83TxC",
        "outputId": "79ebd908-faed-46c4-c19c-0c9268d34058",
        "colab": {
          "base_uri": "https://localhost:8080/",
          "height": 0
        }
      },
      "execution_count": 25,
      "outputs": [
        {
          "output_type": "stream",
          "name": "stdout",
          "text": [
            "Output: 2\n"
          ]
        }
      ]
    },
    {
      "cell_type": "markdown",
      "source": [
        "Problem 24: Given an unsorted array, reorder it in-place such that nums[0] <= nums[1] >= nums[2] <=\n",
        "nums[3]...\n",
        "\n",
        "Input: nums = [3, 5, 2, 1, 6, 4]\n",
        "Output: [3, 5, 1, 6, 2, 4]"
      ],
      "metadata": {
        "id": "HiYSupBG3VeD"
      }
    },
    {
      "cell_type": "code",
      "source": [
        "def wiggleSort(nums):\n",
        "    for i in range(len(nums) - 1):\n",
        "        if (i % 2 == 0 and nums[i] > nums[i + 1]) or (i % 2 == 1 and nums[i] < nums[i + 1]):\n",
        "            nums[i], nums[i + 1] = nums[i + 1], nums[i]  # Swap elements\n",
        "\n",
        "# Example usage\n",
        "nums = [3, 5, 2, 1, 6, 4]\n",
        "wiggleSort(nums)\n",
        "print(\"Output:\", nums)  # Output: [3, 5, 1, 6, 2, 4]\n"
      ],
      "metadata": {
        "id": "IVN7PVcR3Ya7",
        "outputId": "d0f42633-c9e4-48b3-a5bc-948bb3bda023",
        "colab": {
          "base_uri": "https://localhost:8080/",
          "height": 0
        }
      },
      "execution_count": 26,
      "outputs": [
        {
          "output_type": "stream",
          "name": "stdout",
          "text": [
            "Output: [3, 5, 1, 6, 2, 4]\n"
          ]
        }
      ]
    },
    {
      "cell_type": "markdown",
      "source": [
        "Problem 25: Given an array of integers, calculate the sum of all its elements.\n",
        "\n",
        "Input: [1, 2, 3, 4, 5]\n",
        "Output: 15\n"
      ],
      "metadata": {
        "id": "KPkP6NNZ3ZNY"
      }
    },
    {
      "cell_type": "code",
      "source": [
        "def arraySum(nums):\n",
        "    total = 0\n",
        "    for num in nums:\n",
        "        total += num\n",
        "    return total\n",
        "\n",
        "# Example usage\n",
        "nums = [1, 2, 3, 4, 5]\n",
        "print(\"Output:\", arraySum(nums))  # Output: 15\n"
      ],
      "metadata": {
        "id": "IMzpAMNf3dQR",
        "outputId": "482f3510-b0dc-41e4-b54e-19da41f1d2df",
        "colab": {
          "base_uri": "https://localhost:8080/",
          "height": 0
        }
      },
      "execution_count": 27,
      "outputs": [
        {
          "output_type": "stream",
          "name": "stdout",
          "text": [
            "Output: 15\n"
          ]
        }
      ]
    },
    {
      "cell_type": "markdown",
      "source": [
        "Problem 26: Find the maximum element in an array of integers.\n",
        "\n",
        "Input: [3, 7, 2, 9, 4, 1]\n",
        "Output: 9"
      ],
      "metadata": {
        "id": "ncEILI7K3fId"
      }
    },
    {
      "cell_type": "code",
      "source": [
        "def findMax(nums):\n",
        "    max_val = nums[0]  # Assume first element is max\n",
        "    for num in nums:\n",
        "        if num > max_val:\n",
        "            max_val = num\n",
        "    return max_val\n",
        "\n",
        "# Example usage\n",
        "nums = [3, 7, 2, 9, 4, 1]\n",
        "print(\"Output:\", findMax(nums))  # Output: 9\n"
      ],
      "metadata": {
        "id": "c9pb85jD3hPO",
        "outputId": "838267ce-0648-4175-f03c-80f0c03bd118",
        "colab": {
          "base_uri": "https://localhost:8080/",
          "height": 0
        }
      },
      "execution_count": 28,
      "outputs": [
        {
          "output_type": "stream",
          "name": "stdout",
          "text": [
            "Output: 9\n"
          ]
        }
      ]
    },
    {
      "cell_type": "markdown",
      "source": [
        "Problem 27: Implement linear search to find the index of a target element in an array.\n",
        "\n",
        "Input: [5, 3, 8, 2, 7, 4], target = 8\n",
        "Output: 2"
      ],
      "metadata": {
        "id": "gmABo9c23i1u"
      }
    },
    {
      "cell_type": "code",
      "source": [
        "def linearSearch(nums, target):\n",
        "    for i in range(len(nums)):  # Traverse the array\n",
        "        if nums[i] == target:   # Check if current element is the target\n",
        "            return i\n",
        "    return -1  # Target not found\n",
        "\n",
        "# Example usage\n",
        "nums = [5, 3, 8, 2, 7, 4]\n",
        "target = 8\n",
        "print(\"Output:\", linearSearch(nums, target))  # Output: 2\n"
      ],
      "metadata": {
        "id": "wbuKYkP33ltq",
        "outputId": "cc6301a0-72f4-4950-e72b-858d06949357",
        "colab": {
          "base_uri": "https://localhost:8080/",
          "height": 0
        }
      },
      "execution_count": 29,
      "outputs": [
        {
          "output_type": "stream",
          "name": "stdout",
          "text": [
            "Output: 2\n"
          ]
        }
      ]
    },
    {
      "cell_type": "markdown",
      "source": [
        "Problem 28 Calculate the factorial of a given number.\n",
        "\n",
        "Input: 5\n",
        "Output: 120 (as 5! = 5 * 4 * 3 * 2 * 1 = 120)\n"
      ],
      "metadata": {
        "id": "6FSzkqkl3oI_"
      }
    },
    {
      "cell_type": "code",
      "source": [
        "def factorial(n):\n",
        "    if n == 0 or n == 1:\n",
        "        return 1  # Base case\n",
        "    return n * factorial(n - 1)  # Recursive step\n",
        "\n",
        "# Example usage\n",
        "num = 5\n",
        "print(\"Output:\", factorial(num))  # Output: 120\n"
      ],
      "metadata": {
        "id": "34iE1hEl3ruv",
        "outputId": "5bc451a2-356e-4f40-e353-03442129bcbb",
        "colab": {
          "base_uri": "https://localhost:8080/",
          "height": 0
        }
      },
      "execution_count": 30,
      "outputs": [
        {
          "output_type": "stream",
          "name": "stdout",
          "text": [
            "Output: 120\n"
          ]
        }
      ]
    },
    {
      "cell_type": "markdown",
      "source": [
        "Problem 29: Check if a given number is a prime number.\n",
        "\n",
        "Input: 7\n",
        "Output: True"
      ],
      "metadata": {
        "id": "rdTWYPMh3s-3"
      }
    },
    {
      "cell_type": "code",
      "source": [
        "import math\n",
        "\n",
        "def isPrime(n):\n",
        "    if n <= 1:\n",
        "        return False\n",
        "    if n <= 3:\n",
        "        return True  # 2 and 3 are prime\n",
        "    if n % 2 == 0 or n % 3 == 0:\n",
        "        return False\n",
        "\n",
        "    # Check factors up to sqrt(n), skipping even numbers\n",
        "    for i in range(5, int(math.sqrt(n)) + 1, 2):\n",
        "        if n % i == 0:\n",
        "            return False\n",
        "    return True\n",
        "\n",
        "# Example usage\n",
        "num = 7\n",
        "print(\"Output:\", isPrime(num))  # Output: True\n"
      ],
      "metadata": {
        "id": "XtgxmuNo3vPx",
        "outputId": "2d3404c2-773c-42d9-9919-deb9988ae0ef",
        "colab": {
          "base_uri": "https://localhost:8080/",
          "height": 0
        }
      },
      "execution_count": 31,
      "outputs": [
        {
          "output_type": "stream",
          "name": "stdout",
          "text": [
            "Output: True\n"
          ]
        }
      ]
    },
    {
      "cell_type": "markdown",
      "source": [
        "Problem 30: Generate the Fibonacci series up to a given number n.\n",
        "\n",
        "Input: 8\n",
        "Output: [0, 1, 1, 2, 3, 5, 8, 13]"
      ],
      "metadata": {
        "id": "N_hYFswP3vxl"
      }
    },
    {
      "cell_type": "code",
      "source": [
        "def fibonacci_recursive(n, a=0, b=1, result=None):\n",
        "    if result is None:\n",
        "        result = [a, b]\n",
        "    next_val = a + b\n",
        "    if next_val > n:\n",
        "        return result\n",
        "    result.append(next_val)\n",
        "    return fibonacci_recursive(n, b, next_val, result)\n",
        "\n",
        "# Example usage\n",
        "num = 8\n",
        "print(\"Output:\", fibonacci_recursive(num))  # Output: [0, 1, 1, 2, 3, 5, 8, 13]\n"
      ],
      "metadata": {
        "id": "nE128-cq35SH",
        "outputId": "803a7306-ee30-434a-9394-0c0fdf5dfc26",
        "colab": {
          "base_uri": "https://localhost:8080/",
          "height": 0
        }
      },
      "execution_count": 32,
      "outputs": [
        {
          "output_type": "stream",
          "name": "stdout",
          "text": [
            "Output: [0, 1, 1, 2, 3, 5, 8]\n"
          ]
        }
      ]
    },
    {
      "cell_type": "markdown",
      "source": [
        "Problem 31: Calculate the power of a number using recursion.\n",
        "\n",
        "Input: base = 3, exponent = 4\n",
        "Output: 81 (as 3^4 = 3 * 3 * 3 * 3 = 81)\n"
      ],
      "metadata": {
        "id": "CDNN0E3a37ih"
      }
    },
    {
      "cell_type": "code",
      "source": [
        "def power(base, exponent):\n",
        "    if exponent == 0:\n",
        "        return 1  # Base case: b^0 = 1\n",
        "    if exponent % 2 == 0:\n",
        "        half = power(base, exponent // 2)\n",
        "        return half * half  # b^e = (b^(e/2))^2\n",
        "    else:\n",
        "        return base * power(base, exponent - 1)  # b^e = b * b^(e-1)\n",
        "\n",
        "# Example usage\n",
        "base = 3\n",
        "exponent = 4\n",
        "print(\"Output:\", power(base, exponent))  # Output: 81\n"
      ],
      "metadata": {
        "id": "ytznuAat398y",
        "outputId": "e0502a83-ab82-4bcd-af12-90a67178fd8d",
        "colab": {
          "base_uri": "https://localhost:8080/",
          "height": 0
        }
      },
      "execution_count": 33,
      "outputs": [
        {
          "output_type": "stream",
          "name": "stdout",
          "text": [
            "Output: 81\n"
          ]
        }
      ]
    },
    {
      "cell_type": "markdown",
      "source": [
        "Problem 32: Reverse a given string.\n",
        "\n",
        "Input: \"hello\"\n",
        "Output: \"olleh\""
      ],
      "metadata": {
        "id": "Ot-oZgme3_Jz"
      }
    },
    {
      "cell_type": "code",
      "source": [
        "def reverse_recursive(s):\n",
        "    if len(s) <= 1:\n",
        "        return s  # Base case\n",
        "    return s[-1] + reverse_recursive(s[:-1])  # Reverse recursively\n",
        "\n",
        "# Example usage\n",
        "input_str = \"hello\"\n",
        "print(\"Output:\", reverse_recursive(input_str))  # Output: \"olleh\"\n"
      ],
      "metadata": {
        "id": "1BBoVyae4Be3",
        "outputId": "35c8b830-e669-41fa-bc96-0dee779c337b",
        "colab": {
          "base_uri": "https://localhost:8080/",
          "height": 0
        }
      },
      "execution_count": 35,
      "outputs": [
        {
          "output_type": "stream",
          "name": "stdout",
          "text": [
            "Output: olleh\n"
          ]
        }
      ]
    }
  ]
}